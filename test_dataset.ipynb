{
 "cells": [
  {
   "cell_type": "markdown",
   "metadata": {},
   "source": [
    "# Library"
   ]
  },
  {
   "cell_type": "code",
   "execution_count": 1,
   "metadata": {},
   "outputs": [
    {
     "name": "stderr",
     "output_type": "stream",
     "text": [
      "/opt/anaconda3/envs/moleculegraph38/lib/python3.8/site-packages/openbabel/__init__.py:14: UserWarning: \"import openbabel\" is deprecated, instead use \"from openbabel import openbabel\"\n",
      "  warnings.warn('\"import openbabel\" is deprecated, instead use \"from openbabel import openbabel\"')\n"
     ]
    }
   ],
   "source": [
    "# My library\n",
    "from molgraph.dataset import *\n",
    "from molgraph.experiment import *\n",
    "# General library\n",
    "import argparse\n",
    "import os as os\n",
    "import numpy as np\n",
    "import pickle as pickle"
   ]
  },
  {
   "cell_type": "markdown",
   "metadata": {},
   "source": [
    "# Molecular Graph"
   ]
  },
  {
   "cell_type": "code",
   "execution_count": 2,
   "metadata": {},
   "outputs": [],
   "source": [
    "reducedgraph = ['atom']\n",
    "reducedgraph = ['atom', 'pharmacophore', 'junctiontree', 'functional']\n",
    "\n",
    "parser = ArgumentParser()\n",
    "args = parser.getArgument('''\n",
    "--file bbbp\n",
    "--model GIN\n",
    "--schema A\n",
    "--reduced \n",
    "--mol_embedding 256\n",
    "--batch_normalize\n",
    "--fold 5\n",
    "--seed 42\n",
    "'''.split())"
   ]
  },
  {
   "cell_type": "code",
   "execution_count": 3,
   "metadata": {},
   "outputs": [],
   "source": [
    "file = args.file\n",
    "smiles = args.smiles\n",
    "task = args.task\n",
    "splitting = args.splitting\n",
    "splitting_fold = args.fold\n",
    "splitting_seed = args.splitting_seed"
   ]
  },
  {
   "cell_type": "code",
   "execution_count": 4,
   "metadata": {},
   "outputs": [
    {
     "name": "stdout",
     "output_type": "stream",
     "text": [
      "Function: getDataset()\n",
      "number of valid smiles: 2019\n"
     ]
    }
   ],
   "source": [
    "datasets = getDataset(file, smiles, task, splitting)"
   ]
  },
  {
   "cell_type": "code",
   "execution_count": 5,
   "metadata": {},
   "outputs": [
    {
     "name": "stdout",
     "output_type": "stream",
     "text": [
      "scaffold ScaffoldSplitter\n"
     ]
    },
    {
     "name": "stderr",
     "output_type": "stream",
     "text": [
      "[12:28:05] WARNING: not removing hydrogen atom without neighbors\n",
      "[12:28:05] WARNING: not removing hydrogen atom without neighbors\n",
      "[12:28:05] WARNING: not removing hydrogen atom without neighbors\n",
      "[12:28:05] WARNING: not removing hydrogen atom without neighbors\n",
      "[12:28:05] WARNING: not removing hydrogen atom without neighbors\n",
      "[12:28:05] WARNING: not removing hydrogen atom without neighbors\n",
      "[12:28:05] WARNING: not removing hydrogen atom without neighbors\n",
      "[12:28:05] WARNING: not removing hydrogen atom without neighbors\n",
      "[12:28:05] WARNING: not removing hydrogen atom without neighbors\n",
      "[12:28:05] WARNING: not removing hydrogen atom without neighbors\n",
      "[12:28:05] WARNING: not removing hydrogen atom without neighbors\n",
      "[12:28:05] WARNING: not removing hydrogen atom without neighbors\n",
      "[12:28:05] WARNING: not removing hydrogen atom without neighbors\n",
      "[12:28:05] WARNING: not removing hydrogen atom without neighbors\n",
      "[12:28:05] WARNING: not removing hydrogen atom without neighbors\n",
      "[12:28:05] WARNING: not removing hydrogen atom without neighbors\n",
      "[12:28:05] WARNING: not removing hydrogen atom without neighbors\n",
      "[12:28:05] WARNING: not removing hydrogen atom without neighbors\n",
      "[12:28:05] WARNING: not removing hydrogen atom without neighbors\n",
      "[12:28:05] WARNING: not removing hydrogen atom without neighbors\n",
      "[12:28:05] WARNING: not removing hydrogen atom without neighbors\n",
      "[12:28:05] WARNING: not removing hydrogen atom without neighbors\n",
      "[12:28:05] WARNING: not removing hydrogen atom without neighbors\n",
      "[12:28:05] WARNING: not removing hydrogen atom without neighbors\n",
      "[12:28:05] WARNING: not removing hydrogen atom without neighbors\n",
      "[12:28:05] WARNING: not removing hydrogen atom without neighbors\n",
      "[12:28:05] WARNING: not removing hydrogen atom without neighbors\n",
      "[12:28:05] WARNING: not removing hydrogen atom without neighbors\n",
      "[12:28:05] WARNING: not removing hydrogen atom without neighbors\n",
      "[12:28:05] WARNING: not removing hydrogen atom without neighbors\n",
      "[12:28:05] WARNING: not removing hydrogen atom without neighbors\n",
      "[12:28:05] WARNING: not removing hydrogen atom without neighbors\n",
      "[12:28:05] WARNING: not removing hydrogen atom without neighbors\n",
      "[12:28:05] WARNING: not removing hydrogen atom without neighbors\n",
      "[12:28:05] WARNING: not removing hydrogen atom without neighbors\n",
      "[12:28:05] WARNING: not removing hydrogen atom without neighbors\n",
      "[12:28:06] WARNING: not removing hydrogen atom without neighbors\n",
      "[12:28:06] WARNING: not removing hydrogen atom without neighbors\n",
      "[12:28:06] WARNING: not removing hydrogen atom without neighbors\n",
      "[12:28:06] WARNING: not removing hydrogen atom without neighbors\n",
      "[12:28:06] WARNING: not removing hydrogen atom without neighbors\n",
      "[12:28:06] WARNING: not removing hydrogen atom without neighbors\n",
      "[12:28:06] WARNING: not removing hydrogen atom without neighbors\n",
      "[12:28:06] WARNING: not removing hydrogen atom without neighbors\n",
      "[12:28:06] WARNING: not removing hydrogen atom without neighbors\n",
      "[12:28:06] WARNING: not removing hydrogen atom without neighbors\n",
      "[12:28:06] WARNING: not removing hydrogen atom without neighbors\n",
      "[12:28:06] WARNING: not removing hydrogen atom without neighbors\n",
      "[12:28:06] WARNING: not removing hydrogen atom without neighbors\n",
      "[12:28:06] WARNING: not removing hydrogen atom without neighbors\n",
      "[12:28:06] WARNING: not removing hydrogen atom without neighbors\n",
      "[12:28:06] WARNING: not removing hydrogen atom without neighbors\n",
      "[12:28:06] WARNING: not removing hydrogen atom without neighbors\n",
      "[12:28:06] WARNING: not removing hydrogen atom without neighbors\n",
      "[12:28:06] WARNING: not removing hydrogen atom without neighbors\n",
      "[12:28:06] WARNING: not removing hydrogen atom without neighbors\n",
      "[12:28:06] WARNING: not removing hydrogen atom without neighbors\n",
      "[12:28:06] WARNING: not removing hydrogen atom without neighbors\n",
      "[12:28:06] WARNING: not removing hydrogen atom without neighbors\n",
      "[12:28:06] WARNING: not removing hydrogen atom without neighbors\n",
      "[12:28:06] WARNING: not removing hydrogen atom without neighbors\n",
      "[12:28:06] WARNING: not removing hydrogen atom without neighbors\n",
      "[12:28:06] WARNING: not removing hydrogen atom without neighbors\n",
      "[12:28:06] WARNING: not removing hydrogen atom without neighbors\n",
      "[12:28:06] WARNING: not removing hydrogen atom without neighbors\n",
      "[12:28:06] WARNING: not removing hydrogen atom without neighbors\n",
      "[12:28:06] WARNING: not removing hydrogen atom without neighbors\n",
      "[12:28:06] WARNING: not removing hydrogen atom without neighbors\n",
      "[12:28:06] WARNING: not removing hydrogen atom without neighbors\n",
      "[12:28:06] WARNING: not removing hydrogen atom without neighbors\n",
      "[12:28:06] WARNING: not removing hydrogen atom without neighbors\n",
      "[12:28:06] WARNING: not removing hydrogen atom without neighbors\n",
      "[12:28:06] WARNING: not removing hydrogen atom without neighbors\n",
      "[12:28:06] WARNING: not removing hydrogen atom without neighbors\n",
      "[12:28:06] WARNING: not removing hydrogen atom without neighbors\n",
      "[12:28:06] WARNING: not removing hydrogen atom without neighbors\n",
      "[12:28:06] WARNING: not removing hydrogen atom without neighbors\n",
      "[12:28:07] WARNING: not removing hydrogen atom without neighbors\n",
      "[12:28:07] WARNING: not removing hydrogen atom without neighbors\n",
      "[12:28:07] WARNING: not removing hydrogen atom without neighbors\n",
      "[12:28:07] WARNING: not removing hydrogen atom without neighbors\n",
      "[12:28:07] WARNING: not removing hydrogen atom without neighbors\n",
      "[12:28:07] WARNING: not removing hydrogen atom without neighbors\n",
      "[12:28:07] WARNING: not removing hydrogen atom without neighbors\n",
      "[12:28:07] WARNING: not removing hydrogen atom without neighbors\n",
      "[12:28:07] WARNING: not removing hydrogen atom without neighbors\n",
      "[12:28:07] WARNING: not removing hydrogen atom without neighbors\n",
      "[12:28:07] WARNING: not removing hydrogen atom without neighbors\n",
      "[12:28:07] WARNING: not removing hydrogen atom without neighbors\n",
      "[12:28:07] WARNING: not removing hydrogen atom without neighbors\n",
      "[12:28:07] WARNING: not removing hydrogen atom without neighbors\n",
      "[12:28:07] WARNING: not removing hydrogen atom without neighbors\n",
      "[12:28:07] WARNING: not removing hydrogen atom without neighbors\n",
      "[12:28:07] WARNING: not removing hydrogen atom without neighbors\n",
      "[12:28:07] WARNING: not removing hydrogen atom without neighbors\n",
      "[12:28:07] WARNING: not removing hydrogen atom without neighbors\n",
      "[12:28:07] WARNING: not removing hydrogen atom without neighbors\n",
      "[12:28:07] WARNING: not removing hydrogen atom without neighbors\n",
      "[12:28:07] WARNING: not removing hydrogen atom without neighbors\n",
      "[12:28:07] WARNING: not removing hydrogen atom without neighbors\n",
      "[12:28:07] WARNING: not removing hydrogen atom without neighbors\n",
      "[12:28:07] WARNING: not removing hydrogen atom without neighbors\n",
      "[12:28:07] WARNING: not removing hydrogen atom without neighbors\n",
      "[12:28:07] WARNING: not removing hydrogen atom without neighbors\n",
      "[12:28:07] WARNING: not removing hydrogen atom without neighbors\n",
      "[12:28:07] WARNING: not removing hydrogen atom without neighbors\n",
      "[12:28:07] WARNING: not removing hydrogen atom without neighbors\n",
      "[12:28:07] WARNING: not removing hydrogen atom without neighbors\n",
      "[12:28:07] WARNING: not removing hydrogen atom without neighbors\n",
      "[12:28:07] WARNING: not removing hydrogen atom without neighbors\n",
      "[12:28:07] WARNING: not removing hydrogen atom without neighbors\n",
      "[12:28:07] WARNING: not removing hydrogen atom without neighbors\n",
      "[12:28:07] WARNING: not removing hydrogen atom without neighbors\n",
      "[12:28:07] WARNING: not removing hydrogen atom without neighbors\n",
      "[12:28:07] WARNING: not removing hydrogen atom without neighbors\n",
      "[12:28:07] WARNING: not removing hydrogen atom without neighbors\n",
      "[12:28:07] WARNING: not removing hydrogen atom without neighbors\n",
      "[12:28:07] WARNING: not removing hydrogen atom without neighbors\n",
      "[12:28:07] WARNING: not removing hydrogen atom without neighbors\n",
      "[12:28:07] WARNING: not removing hydrogen atom without neighbors\n",
      "[12:28:07] WARNING: not removing hydrogen atom without neighbors\n",
      "[12:28:07] WARNING: not removing hydrogen atom without neighbors\n",
      "[12:28:07] WARNING: not removing hydrogen atom without neighbors\n",
      "[12:28:08] WARNING: not removing hydrogen atom without neighbors\n",
      "[12:28:08] WARNING: not removing hydrogen atom without neighbors\n",
      "[12:28:08] WARNING: not removing hydrogen atom without neighbors\n",
      "[12:28:08] WARNING: not removing hydrogen atom without neighbors\n",
      "[12:28:08] WARNING: not removing hydrogen atom without neighbors\n",
      "[12:28:08] WARNING: not removing hydrogen atom without neighbors\n",
      "[12:28:08] WARNING: not removing hydrogen atom without neighbors\n",
      "[12:28:08] WARNING: not removing hydrogen atom without neighbors\n",
      "[12:28:08] WARNING: not removing hydrogen atom without neighbors\n",
      "[12:28:08] WARNING: not removing hydrogen atom without neighbors\n",
      "[12:28:08] WARNING: not removing hydrogen atom without neighbors\n",
      "[12:28:08] WARNING: not removing hydrogen atom without neighbors\n",
      "[12:28:08] WARNING: not removing hydrogen atom without neighbors\n",
      "[12:28:08] WARNING: not removing hydrogen atom without neighbors\n",
      "[12:28:08] WARNING: not removing hydrogen atom without neighbors\n",
      "[12:28:08] WARNING: not removing hydrogen atom without neighbors\n",
      "[12:28:08] WARNING: not removing hydrogen atom without neighbors\n",
      "[12:28:08] WARNING: not removing hydrogen atom without neighbors\n",
      "[12:28:08] WARNING: not removing hydrogen atom without neighbors\n",
      "[12:28:08] WARNING: not removing hydrogen atom without neighbors\n",
      "[12:28:08] WARNING: not removing hydrogen atom without neighbors\n",
      "[12:28:08] WARNING: not removing hydrogen atom without neighbors\n",
      "[12:28:08] WARNING: not removing hydrogen atom without neighbors\n",
      "[12:28:08] WARNING: not removing hydrogen atom without neighbors\n"
     ]
    },
    {
     "name": "stdout",
     "output_type": "stream",
     "text": [
      "Function: generateDatasetSplitting()\n",
      "Fold: 5\n",
      "Fold Number: 0\n",
      "-- Datasets Train: 1292\n",
      "-- Datasets Val: 323\n",
      "-- Datasets Test:  404\n",
      "-- Total: 2019\n",
      "Fold Number: 1\n",
      "-- Datasets Train: 1292\n",
      "-- Datasets Val: 323\n",
      "-- Datasets Test:  404\n",
      "-- Total: 2019\n",
      "Fold Number: 2\n",
      "-- Datasets Train: 1292\n",
      "-- Datasets Val: 323\n",
      "-- Datasets Test:  404\n",
      "-- Total: 2019\n",
      "Fold Number: 3\n",
      "-- Datasets Train: 1292\n",
      "-- Datasets Val: 323\n",
      "-- Datasets Test:  404\n",
      "-- Total: 2019\n",
      "Fold Number: 4\n",
      "-- Datasets Train: 1292\n",
      "-- Datasets Val: 323\n",
      "-- Datasets Test:  404\n",
      "-- Total: 2019\n"
     ]
    },
    {
     "name": "stderr",
     "output_type": "stream",
     "text": [
      "[12:28:08] WARNING: not removing hydrogen atom without neighbors\n"
     ]
    }
   ],
   "source": [
    "datasets_splitted = generateDatasetSplitting(file, splitting, splitting_fold, splitting_seed)"
   ]
  },
  {
   "cell_type": "code",
   "execution_count": 6,
   "metadata": {},
   "outputs": [
    {
     "name": "stdout",
     "output_type": "stream",
     "text": [
      "Function: generateGraphDataset()\n",
      "Datasets graph:  1965\n"
     ]
    }
   ],
   "source": [
    "datasets_graph = generateGraphDataset(file)"
   ]
  },
  {
   "cell_type": "code",
   "execution_count": 7,
   "metadata": {},
   "outputs": [],
   "source": [
    "# generateVocabTrain(file, splitting_fold, vocab_len=len(datasets_graph)//10)"
   ]
  },
  {
   "cell_type": "code",
   "execution_count": 8,
   "metadata": {},
   "outputs": [
    {
     "name": "stdout",
     "output_type": "stream",
     "text": [
      "=== atom ===\n",
      "=== pharmacophore ===\n",
      "=== junctiontree ===\n",
      "=== functional ===\n"
     ]
    }
   ],
   "source": [
    "dict_reducedgraph_all = dict()\n",
    "for r in reducedgraph:\n",
    "    print('===',r,'===')\n",
    "    dict_reducedgraph = generateReducedGraphDict(file, r, vocab_file=file+'_0')\n",
    "    dict_reducedgraph_all[r] = dict_reducedgraph"
   ]
  },
  {
   "cell_type": "code",
   "execution_count": 9,
   "metadata": {},
   "outputs": [],
   "source": [
    "atom_list = list()\n",
    "for r in dict_reducedgraph_all:\n",
    "    substructure_atom_list = list()\n",
    "    for d in dict_reducedgraph_all[r]:\n",
    "        substructure_atom_list.append(dict_reducedgraph_all[r][d][0].x_r.shape[0])\n",
    "    atom_list.append(substructure_atom_list)\n"
   ]
  },
  {
   "cell_type": "code",
   "execution_count": 10,
   "metadata": {},
   "outputs": [
    {
     "name": "stdout",
     "output_type": "stream",
     "text": [
      "atom\n",
      "- mean 24.223409669211197 10.665320919128412\n",
      "- max 132\n",
      "- min 2\n",
      "pharmacophore\n",
      "- mean 20.003562340966923 10.574273236743004\n",
      "- max 128\n",
      "- min 1\n",
      "junctiontree\n",
      "- mean 14.911450381679389 8.074985480931723\n",
      "- max 85\n",
      "- min 1\n",
      "functional\n",
      "- mean 11.914503816793893 6.252760678484563\n",
      "- max 64\n",
      "- min 1\n"
     ]
    }
   ],
   "source": [
    "max_node = 0\n",
    "min_node = 999\n",
    "for r, a in zip(reducedgraph, atom_list):\n",
    "    print(r)\n",
    "    print('- mean', np.mean(a), np.std(a))\n",
    "    print('- max', np.max(a))\n",
    "    print('- min', np.min(a))\n",
    "    max_node = np.max(a) if np.max(a) > max_node else max_node\n",
    "    min_node = np.min(a) if np.min(a) < min_node else min_node"
   ]
  },
  {
   "cell_type": "code",
   "execution_count": 11,
   "metadata": {},
   "outputs": [
    {
     "data": {
      "image/png": "[encoded data removed]",
      "text/plain": [
       "<Figure size 1500x1000 with 4 Axes>"
      ]
     },
     "metadata": {},
     "output_type": "display_data"
    }
   ],
   "source": [
    "import matplotlib.pyplot as plt\n",
    "import seaborn as sns\n",
    "import matplotlib.pyplot as plt\n",
    "plt.rcParams.update({'font.size': 12})\n",
    "\n",
    "colors = {'atom': '#104C96',\n",
    "          'junctiontree': '#C60505',\n",
    "          'cluster': '#E26AB0',\n",
    "          'functional': '#FD6B12',\n",
    "          'pharmacophore': '#088D36',\n",
    "          'substructure': '#8B50C9'}\n",
    "          #F4D53B yellow\n",
    "\n",
    "fig, ax = plt.subplots(4, 1, sharex=True, figsize=(15,10))\n",
    "for i, a in enumerate(atom_list):\n",
    "    sns.histplot(a, bins=range(1, 110, 1), ax=ax[i], kde=False, legend=False, discrete=True,\n",
    "                 label=reducedgraph[i], color=colors[reducedgraph[i]])\n",
    "    ax[i].axvline(x=np.mean(a), linewidth=1, color='black')\n",
    "    ax[i].set_ylabel('#compounds')\n",
    "    ax[i].set_xlim([0, np.ceil(max_node / 10) * 10])\n",
    "    ax[i].set_ylim([0, 800])\n",
    "    ax[i].legend()"
   ]
  },
  {
   "cell_type": "code",
   "execution_count": 12,
   "metadata": {},
   "outputs": [],
   "source": [
    "batch_size = 265\n",
    "fold_number = 0\n",
    "train_loader, val_loader, test_loader, datasets_train, datasets_val, datasets_test = generateDataLoader(file, batch_size, seed=42, fold_number=fold_number)"
   ]
  },
  {
   "cell_type": "code",
   "execution_count": 13,
   "metadata": {},
   "outputs": [
    {
     "name": "stdout",
     "output_type": "stream",
     "text": [
      "0\n",
      "PairDataBatch(smiles=[265], x_g=[6814, 79], x_g_batch=[6814], x_g_ptr=[266], edge_index_g=[2, 14816], edge_attr_g=[14816, 10], y=[265, 1])\n",
      "265\n",
      "1\n",
      "PairDataBatch(smiles=[265], x_g=[6582, 79], x_g_batch=[6582], x_g_ptr=[266], edge_index_g=[2, 14326], edge_attr_g=[14326, 10], y=[265, 1])\n",
      "265\n",
      "2\n",
      "PairDataBatch(smiles=[265], x_g=[6627, 79], x_g_batch=[6627], x_g_ptr=[266], edge_index_g=[2, 14356], edge_attr_g=[14356, 10], y=[265, 1])\n",
      "265\n",
      "3\n",
      "PairDataBatch(smiles=[265], x_g=[6480, 79], x_g_batch=[6480], x_g_ptr=[266], edge_index_g=[2, 14006], edge_attr_g=[14006, 10], y=[265, 1])\n",
      "265\n",
      "4\n",
      "PairDataBatch(smiles=[232], x_g=[5761, 79], x_g_batch=[5761], x_g_ptr=[233], edge_index_g=[2, 12484], edge_attr_g=[12484, 10], y=[232, 1])\n",
      "232\n"
     ]
    }
   ],
   "source": [
    "# visualize dataloader\n",
    "for _, item in enumerate(train_loader):\n",
    "    print(_)\n",
    "    print(item)\n",
    "    print(getNumberofSmiles(item))\n",
    "    # print(item.x_g)\n",
    "    # print(item.edge_index_g)\n",
    "    # print(item.x_g_batch)\n",
    "    # print(item.y)\n",
    "    # break"
   ]
  },
  {
   "cell_type": "code",
   "execution_count": 14,
   "metadata": {},
   "outputs": [
    {
     "name": "stdout",
     "output_type": "stream",
     "text": [
      "pos_weight: 0.3025806451612903\n"
     ]
    }
   ],
   "source": [
    "if args.graphtask == 'classification':\n",
    "    args.pos_weight = getPosWeight(datasets)\n",
    "    print('pos_weight:', args.pos_weight)"
   ]
  },
  {
   "cell_type": "code",
   "execution_count": 15,
   "metadata": {},
   "outputs": [
    {
     "name": "stdout",
     "output_type": "stream",
     "text": [
      "Positive y1 1500\n",
      "Negative y0 465\n"
     ]
    }
   ],
   "source": [
    "y0 = 0\n",
    "y1 = 0\n",
    "for g in datasets_graph:\n",
    "    # print(datasets_graph[g])\n",
    "    if datasets_graph[g].y == 0:\n",
    "        y0+=1\n",
    "    else:\n",
    "        y1+=1\n",
    "    # break\n",
    "\n",
    "print('Positive y1', y1)\n",
    "print('Negative y0', y0)\n"
   ]
  },
  {
   "cell_type": "code",
   "execution_count": null,
   "metadata": {},
   "outputs": [],
   "source": []
  }
 ],
 "metadata": {
  "kernelspec": {
   "display_name": "Python 3.8.13 ('myenv38')",
   "language": "python",
   "name": "python3"
  },
  "language_info": {
   "codemirror_mode": {
    "name": "ipython",
    "version": 3
   },
   "file_extension": ".py",
   "mimetype": "text/x-python",
   "name": "python",
   "nbconvert_exporter": "python",
   "pygments_lexer": "ipython3",
   "version": "3.8.13"
  },
  "orig_nbformat": 4,
  "vscode": {
   "interpreter": {
    "hash": "39c542c5c02b7a511e1ae79f0bb478cef0c12733a4ae7993722600208abb2b65"
   }
  }
 },
 "nbformat": 4,
 "nbformat_minor": 2
}

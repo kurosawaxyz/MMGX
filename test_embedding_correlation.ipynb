{
 "cells": [
  {
   "cell_type": "markdown",
   "metadata": {},
   "source": [
    "# Library"
   ]
  },
  {
   "cell_type": "code",
   "execution_count": null,
   "metadata": {},
   "outputs": [],
   "source": [
    "# My library\n",
    "from molgraph.graphmodel import *\n",
    "\n",
    "import pickle\n",
    "import numpy as np\n",
    "import pandas as pd\n",
    "import scipy.stats\n",
    "import seaborn as sns\n",
    "import matplotlib.pyplot as plt\n",
    "from matplotlib.pyplot import figure\n",
    "from tqdm import tqdm\n",
    "import os"
   ]
  },
  {
   "attachments": {},
   "cell_type": "markdown",
   "metadata": {},
   "source": [
    "# SINGLE"
   ]
  },
  {
   "cell_type": "code",
   "execution_count": null,
   "metadata": {},
   "outputs": [],
   "source": [
    "# Load model\n",
    "file = 'bbbp'\n",
    "model = 'GIN'\n",
    "schema = 'A'\n",
    "reduced = ['']\n",
    "\n",
    "ts = \"2023-Jan-09-23:29:08\"\n",
    "reduced_list = '_'.join(reduced)\n",
    "log_folder_name = os.path.join(*[file, model+'_'+schema+'_'+reduced_list, f\"{ts}\"])\n",
    "\n",
    "path = './dataset/'+log_folder_name+'/embedding.pickle'\n",
    "with open(path, 'rb') as handle:\n",
    "    embedding1 = pickle.load(handle)"
   ]
  },
  {
   "cell_type": "code",
   "execution_count": null,
   "metadata": {},
   "outputs": [],
   "source": [
    "# Load model\n",
    "file = 'bbbp'\n",
    "model = 'GIN'\n",
    "schema = 'R'\n",
    "reduced = ['pharmacophore']\n",
    "\n",
    "ts = \"2022-Nov-20-14:07:43\"\n",
    "reduced_list = '_'.join(reduced)\n",
    "log_folder_name = os.path.join(*[file, model+'_'+schema+'_'+reduced_list, f\"{ts}\"])\n",
    "\n",
    "path = './dataset/'+log_folder_name+'/embedding.pickle'\n",
    "with open(path, 'rb') as handle:\n",
    "    embedding2 = pickle.load(handle)"
   ]
  },
  {
   "cell_type": "code",
   "execution_count": null,
   "metadata": {},
   "outputs": [],
   "source": [
    "print(len(embedding1))\n",
    "print(len(embedding2))"
   ]
  },
  {
   "cell_type": "code",
   "execution_count": null,
   "metadata": {},
   "outputs": [],
   "source": [
    "embedding_g = list()\n",
    "embedding_r = list()\n",
    "for a in embedding1:\n",
    "    for g in embedding1[a]:\n",
    "        embedding_g.append(list(embedding1[a][g]))\n",
    "    for g in embedding2[a]:\n",
    "        embedding_r.append(list(embedding2[a][g]))"
   ]
  },
  {
   "cell_type": "code",
   "execution_count": null,
   "metadata": {},
   "outputs": [],
   "source": [
    "embedding_g_t = np.transpose(embedding_g)\n",
    "embedding_r_t = np.transpose(embedding_r)"
   ]
  },
  {
   "cell_type": "code",
   "execution_count": null,
   "metadata": {},
   "outputs": [],
   "source": [
    "correlation_mat = pd.DataFrame(embedding_g)[[0,1]].corr()\n",
    "sns.heatmap(correlation_mat, annot = True)\n",
    "plt.show()"
   ]
  },
  {
   "cell_type": "code",
   "execution_count": null,
   "metadata": {},
   "outputs": [],
   "source": [
    "embedding_pearson = list()\n",
    "embedding_pearson_max = list()\n",
    "for i, ii in tqdm(enumerate(embedding_g_t)):\n",
    "    finding_max = list()\n",
    "    for j, jj in enumerate(embedding_r_t):\n",
    "        if j >= i:\n",
    "            corr = scipy.stats.pearsonr(ii, jj)[0]\n",
    "            finding_max.append(corr)\n",
    "            embedding_pearson.append(corr)\n",
    "    if len(finding_max) != 0:\n",
    "        embedding_pearson_max.append(max(finding_max))"
   ]
  },
  {
   "cell_type": "code",
   "execution_count": null,
   "metadata": {},
   "outputs": [],
   "source": [
    "print('embedding_pearson', len(embedding_pearson))\n",
    "print('embedding_pearson_max', len(embedding_pearson_max))\n",
    "print('MEAN embedding_pearson', np.mean(embedding_pearson))\n",
    "print('STD  embedding_pearson', np.std(embedding_pearson))"
   ]
  },
  {
   "cell_type": "code",
   "execution_count": null,
   "metadata": {},
   "outputs": [],
   "source": [
    "figure(figsize=(8, 5), dpi=80)\n",
    "fig = sns.histplot(data=embedding_pearson, bins=np.arange(-1.1, 1.1, 0.05))\n",
    "fig.axvline(x=np.mean(embedding_pearson), linewidth=1, color='black')\n",
    "fig.set_xlim([-1,1])\n",
    "plt.xlabel('spearman')"
   ]
  },
  {
   "cell_type": "code",
   "execution_count": null,
   "metadata": {},
   "outputs": [],
   "source": [
    "figure(figsize=(8, 5), dpi=80)\n",
    "fig = sns.histplot(data=embedding_pearson_max, bins=np.arange(-1.1, 1.1, 0.05))\n",
    "fig.axvline(x=np.mean(embedding_pearson_max), linewidth=1, color='black')\n",
    "fig.set_xlim([-1,1])\n",
    "plt.xlabel('spearman')"
   ]
  },
  {
   "cell_type": "code",
   "execution_count": null,
   "metadata": {},
   "outputs": [],
   "source": [
    "figure(figsize=(8, 5), dpi=80)\n",
    "fig = sns.scatterplot(x=embedding_g_t[0], y=embedding_r_t[0])\n",
    "# fig.set_xlim([0,1])\n",
    "# fig.set_ylim([0,1])\n",
    "plt.xlabel('atom')\n",
    "plt.ylabel('reduced')"
   ]
  },
  {
   "attachments": {},
   "cell_type": "markdown",
   "metadata": {},
   "source": [
    "# COMBINE"
   ]
  },
  {
   "cell_type": "code",
   "execution_count": null,
   "metadata": {},
   "outputs": [],
   "source": [
    "# Load model\n",
    "file = 'bbbp'\n",
    "model = 'GIN'\n",
    "schema = 'AR_0'\n",
    "reduced = ['functional']\n",
    "\n",
    "ts = \"2022-Nov-20-12:36:26\"\n",
    "reduced_list = '_'.join(reduced)\n",
    "log_folder_name = os.path.join(*[file, model+'_'+schema+'_'+reduced_list, f\"{ts}\"])\n",
    "\n",
    "path = './dataset/'+log_folder_name+'/embedding.pickle'\n",
    "with open(path, 'rb') as handle:\n",
    "    embedding = pickle.load(handle)"
   ]
  },
  {
   "cell_type": "code",
   "execution_count": null,
   "metadata": {},
   "outputs": [],
   "source": [
    "embedding_g = list()\n",
    "embedding_r = list()\n",
    "for a in embedding:\n",
    "    g = list(embedding[a].keys())\n",
    "    embedding_g.append(list(embedding[a][g[0]]))\n",
    "    embedding_r.append(list(embedding[a][g[1]]))"
   ]
  },
  {
   "cell_type": "code",
   "execution_count": null,
   "metadata": {},
   "outputs": [],
   "source": [
    "embedding_g_t = np.transpose(embedding_g)\n",
    "embedding_r_t = np.transpose(embedding_r)"
   ]
  },
  {
   "cell_type": "code",
   "execution_count": null,
   "metadata": {},
   "outputs": [],
   "source": [
    "embedding_pearson = list()\n",
    "embedding_pearson_max = list()\n",
    "for i, ii in tqdm(enumerate(embedding_g_t)):\n",
    "    finding_max = list()\n",
    "    for j, jj in enumerate(embedding_r_t):\n",
    "        if j >= i:\n",
    "            corr = scipy.stats.pearsonr(ii, jj)[0]\n",
    "            finding_max.append(corr)\n",
    "            embedding_pearson.append(corr)\n",
    "    if len(finding_max) != 0:\n",
    "        embedding_pearson_max.append(max(finding_max))"
   ]
  },
  {
   "cell_type": "code",
   "execution_count": null,
   "metadata": {},
   "outputs": [],
   "source": [
    "print('embedding_pearson', len(embedding_pearson))\n",
    "print('embedding_pearson_max', len(embedding_pearson_max))\n",
    "print('MEAN embedding_pearson', np.mean(embedding_pearson))\n",
    "print('STD  embedding_pearson', np.std(embedding_pearson))"
   ]
  },
  {
   "cell_type": "code",
   "execution_count": null,
   "metadata": {},
   "outputs": [],
   "source": [
    "figure(figsize=(8, 5), dpi=80)\n",
    "fig = sns.histplot(data=embedding_pearson, bins=np.arange(-1.1, 1.1, 0.05))\n",
    "fig.axvline(x=np.mean(embedding_pearson), linewidth=1, color='black')\n",
    "fig.set_xlim([-1,1])\n",
    "plt.xlabel('spearman')"
   ]
  },
  {
   "cell_type": "code",
   "execution_count": null,
   "metadata": {},
   "outputs": [],
   "source": [
    "figure(figsize=(8, 5), dpi=80)\n",
    "fig = sns.histplot(data=embedding_pearson_max, bins=np.arange(-1.1, 1.1, 0.05))\n",
    "fig.axvline(x=np.mean(embedding_pearson_max), linewidth=1, color='black')\n",
    "fig.set_xlim([-1,1])\n",
    "plt.xlabel('spearman')"
   ]
  },
  {
   "cell_type": "code",
   "execution_count": null,
   "metadata": {},
   "outputs": [],
   "source": [
    "figure(figsize=(8, 5), dpi=80)\n",
    "fig = sns.scatterplot(x=embedding_g_t[0], y=embedding_r_t[0])\n",
    "# fig.set_xlim([0,1])\n",
    "# fig.set_ylim([0,1])\n",
    "plt.xlabel('atom')\n",
    "plt.ylabel('reduced')"
   ]
  },
  {
   "attachments": {},
   "cell_type": "markdown",
   "metadata": {},
   "source": [
    "# CROSS"
   ]
  },
  {
   "cell_type": "code",
   "execution_count": null,
   "metadata": {},
   "outputs": [],
   "source": [
    "attention_pearson = []\n",
    "scatter_all = [list(), list()]\n",
    "for a in tqdm(attention):\n",
    "    compare = []\n",
    "    compare.append(list(attention1[a]['atom'].values()))\n",
    "    scatter_all[0].extend(list(attention1[a]['atom'].values()))\n",
    "    compare.append(list(attention[a]['atom'].values()))\n",
    "    scatter_all[1].extend(list(attention[a]['atom'].values()))\n",
    "    attention_pearson.append(scipy.stats.pearsonr(compare[0], compare[1])[0])\n",
    "    # break"
   ]
  },
  {
   "cell_type": "code",
   "execution_count": null,
   "metadata": {},
   "outputs": [],
   "source": [
    "figure(figsize=(8, 5), dpi=80)\n",
    "fig = sns.histplot(data=attention_pearson, bins=np.arange(-1.1, 1.1, 0.1))\n",
    "fig.axvline(x=np.mean(attention_pearson), linewidth=1, color='black')\n",
    "fig.set_xlim([-1,1])\n",
    "plt.xlabel('spearman')"
   ]
  },
  {
   "cell_type": "code",
   "execution_count": null,
   "metadata": {},
   "outputs": [],
   "source": [
    "figure(figsize=(8, 5), dpi=80)\n",
    "fig = sns.scatterplot(x=scatter_all[0], y=scatter_all[1])\n",
    "fig.set_xlim([0,1])\n",
    "fig.set_ylim([0,1])\n",
    "plt.xlabel('atom')\n",
    "plt.ylabel('reduced')"
   ]
  },
  {
   "cell_type": "code",
   "execution_count": null,
   "metadata": {},
   "outputs": [],
   "source": [
    "attention_pearson = []\n",
    "scatter_all = [list(), list()]\n",
    "for a in tqdm(attention):\n",
    "    compare = []\n",
    "    compare.append(list(attention2[a]['functional'].values()))\n",
    "    scatter_all[0].extend(list(attention2[a]['functional'].values()))\n",
    "    compare.append(list(attention[a]['functional'].values()))\n",
    "    scatter_all[1].extend(list(attention[a]['functional'].values()))\n",
    "    attention_pearson.append(scipy.stats.pearsonr(compare[0], compare[1])[0])\n",
    "    # break"
   ]
  },
  {
   "cell_type": "code",
   "execution_count": null,
   "metadata": {},
   "outputs": [],
   "source": [
    "figure(figsize=(8, 5), dpi=80)\n",
    "fig = sns.histplot(data=attention_pearson, bins=np.arange(-1.1, 1.1, 0.1))\n",
    "fig.axvline(x=np.mean(attention_pearson), linewidth=1, color='black')\n",
    "fig.set_xlim([-1,1])\n",
    "plt.xlabel('spearman')"
   ]
  },
  {
   "cell_type": "code",
   "execution_count": null,
   "metadata": {},
   "outputs": [],
   "source": [
    "figure(figsize=(8, 5), dpi=80)\n",
    "fig = sns.scatterplot(x=scatter_all[0], y=scatter_all[1])\n",
    "fig.set_xlim([0,1])\n",
    "fig.set_ylim([0,1])\n",
    "plt.xlabel('atom')\n",
    "plt.ylabel('reduced')"
   ]
  },
  {
   "attachments": {},
   "cell_type": "markdown",
   "metadata": {},
   "source": [
    "# SINGLE All"
   ]
  },
  {
   "cell_type": "code",
   "execution_count": null,
   "metadata": {},
   "outputs": [],
   "source": [
    "embedding_all = list()\n",
    "# Load model\n",
    "file = 'bbbp'\n",
    "model = 'GAT'\n",
    "schema = 'AR_0'\n",
    "reduced = ['functional']\n",
    "fold = 5\n",
    "\n",
    "for f in range(fold):\n",
    "    s = schema\n",
    "    if s == 'A':\n",
    "        directory = './dataset/'+os.path.join(*[file, model+'_'+s+'_'])\n",
    "        ts = next(os.walk(directory))[1][0]\n",
    "        reduced_list = ''\n",
    "        log_folder_name = os.path.join(*[file, model+'_'+s+'_'+reduced_list, f\"{ts}\"])\n",
    "\n",
    "        path = './dataset/'+log_folder_name+'/embedding'+str(f)+'.pickle'\n",
    "        with open(path, 'rb') as handle:\n",
    "            embedding_all.append(pickle.load(handle))\n",
    "    else:\n",
    "        for r in reduced:\n",
    "            directory = './dataset/'+os.path.join(*[file, model+'_'+s+'_'+r])\n",
    "            ts = sorted(next(os.walk(directory))[1])[0]\n",
    "            reduced_list = r\n",
    "            log_folder_name = os.path.join(*[file, model+'_'+s+'_'+reduced_list, f\"{ts}\"])\n",
    "\n",
    "            path = './dataset/'+log_folder_name+'/embedding'+str(f)+'.pickle'\n",
    "            with open(path, 'rb') as handle:\n",
    "                embedding_all.append(pickle.load(handle))"
   ]
  },
  {
   "cell_type": "code",
   "execution_count": null,
   "metadata": {},
   "outputs": [],
   "source": [
    "len(embedding_all)"
   ]
  },
  {
   "cell_type": "code",
   "execution_count": null,
   "metadata": {},
   "outputs": [],
   "source": [
    "from rdkit.Chem import AllChem\n",
    "fingerprint = list()\n",
    "test_y = list()\n",
    "# embedding_result = [[] for _ in range(len(embedding_all)+1)]\n",
    "embedding_result = [[] for _ in range(len(embedding_all))]\n",
    "\n",
    "for a in embedding_all[0]: # loop smilse from atom graph\n",
    "    for i in range(len(embedding_all)):\n",
    "        combine_list = []\n",
    "        for g in embedding_all[i][a]:\n",
    "            if len(list(embedding_all[i][a][g])) != 0:\n",
    "                combine_list.extend(list(embedding_all[i][a][g]))\n",
    "        embedding_result[i].append(combine_list)\n",
    "\n",
    "# for a in embedding_all[0]:\n",
    "#     mol = smiles_to_mol(a)\n",
    "#     morgan = AllChem.GetMorganFingerprintAsBitVect(mol, radius=3, nBits=512)\n",
    "#     embedding_result[-1].append(np.array(morgan))\n",
    "\n",
    "embedding_result_t = []\n",
    "for r in embedding_result:\n",
    "    embedding_result_t.append(np.transpose(r))\n",
    "\n",
    "embedding_result = embedding_result_t"
   ]
  },
  {
   "cell_type": "code",
   "execution_count": null,
   "metadata": {},
   "outputs": [],
   "source": [
    "len(embedding_result)"
   ]
  },
  {
   "cell_type": "code",
   "execution_count": null,
   "metadata": {},
   "outputs": [],
   "source": [
    "len(embedding_result[-1])"
   ]
  },
  {
   "cell_type": "code",
   "execution_count": null,
   "metadata": {},
   "outputs": [],
   "source": [
    "fig, ax = plt.subplots(len(embedding_result), len(embedding_result), sharex=True, sharey=True, figsize=(15,15))\n",
    "label = range(fold)\n",
    "\n",
    "embedding_pearson = list()\n",
    "embedding_pearson_max = list()\n",
    "for r_i in tqdm(range(len(embedding_result))):\n",
    "    for r_j in range(len(embedding_result)):\n",
    "        if r_i >= r_j:\n",
    "            embedding_pearson = list()\n",
    "            embedding_pearson_max = list()\n",
    "            for i, ii in tqdm(enumerate(embedding_result[r_i])):\n",
    "                finding_max = list()\n",
    "                for j, jj in enumerate(embedding_result[r_j]):\n",
    "                    if j >= i:\n",
    "                        if len(ii) != len(jj):\n",
    "                            print(len(ii), len(jj))\n",
    "                        corr = scipy.stats.pearsonr(ii, jj)[0]\n",
    "                        finding_max.append(corr)\n",
    "                        embedding_pearson.append(corr)\n",
    "                if len(finding_max) != 0:\n",
    "                    embedding_pearson_max.append(max(finding_max))\n",
    "\n",
    "            sns.histplot(data=embedding_pearson_max, bins=np.arange(-1.1, 1.1, 0.05), ax=ax[r_i, r_j], label=str(label[r_i])+'-'+str(label[r_j]))\n",
    "            ax[r_i, r_j].axvline(x=np.mean(embedding_pearson_max), linewidth=1, color='black')\n",
    "            ax[r_i, r_j].set_xlim([-1,1])\n",
    "            plt.xlabel('spearman')"
   ]
  },
  {
   "attachments": {},
   "cell_type": "markdown",
   "metadata": {},
   "source": [
    "# SINGLE COMPARE All"
   ]
  },
  {
   "cell_type": "code",
   "execution_count": null,
   "metadata": {},
   "outputs": [],
   "source": [
    "embedding_all = list()\n",
    "# Load model\n",
    "file = 'bbbp'\n",
    "model = 'GAT'\n",
    "schema = ['A', 'AR_0']\n",
    "reduced = ['junctiontree', 'cluster', 'functional', 'pharmacophore', 'substructure']\n",
    "\n",
    "for s in schema:\n",
    "    if s == 'A':\n",
    "        directory = './dataset/'+os.path.join(*[file, model+'_'+s+'_'])\n",
    "        ts = next(os.walk(directory))[1][0]\n",
    "        reduced_list = ''\n",
    "        log_folder_name = os.path.join(*[file, model+'_'+s+'_'+reduced_list, f\"{ts}\"])\n",
    "\n",
    "        path = './dataset/'+log_folder_name+'/embedding.pickle'\n",
    "        with open(path, 'rb') as handle:\n",
    "            embedding_all.append(pickle.load(handle))\n",
    "    else:\n",
    "        for r in reduced:\n",
    "            directory = './dataset/'+os.path.join(*[file, model+'_'+s+'_'+r])\n",
    "            ts = sorted(next(os.walk(directory))[1])[0]\n",
    "            reduced_list = r\n",
    "            log_folder_name = os.path.join(*[file, model+'_'+s+'_'+reduced_list, f\"{ts}\"])\n",
    "\n",
    "            path = './dataset/'+log_folder_name+'/embedding.pickle'\n",
    "            with open(path, 'rb') as handle:\n",
    "                embedding_all.append(pickle.load(handle))"
   ]
  },
  {
   "cell_type": "code",
   "execution_count": null,
   "metadata": {},
   "outputs": [],
   "source": [
    "from rdkit.Chem import AllChem\n",
    "fingerprint = list()\n",
    "test_y = list()\n",
    "# embedding_result = [[] for _ in range(len(embedding_all)+1)]\n",
    "embedding_result = [[] for _ in range(len(embedding_all))]\n",
    "\n",
    "for a in embedding_all[0]: # loop smilse from atom graph\n",
    "    for i in range(len(embedding_all)):\n",
    "        for g in embedding_all[i][a]:\n",
    "            if len(list(embedding_all[i][a][g])) != 0:\n",
    "                embedding_result[i].append(list(embedding_all[i][a][g]))\n",
    "\n",
    "# for a in embedding_all[0]:\n",
    "#     mol = smiles_to_mol(a)\n",
    "#     morgan = AllChem.GetMorganFingerprintAsBitVect(mol, radius=3, nBits=512)\n",
    "#     embedding_result[-1].append(np.array(morgan))\n",
    "\n",
    "embedding_result_t = []\n",
    "for r in embedding_result:\n",
    "    embedding_result_t.append(np.transpose(r))\n",
    "\n",
    "embedding_result = embedding_result_t"
   ]
  },
  {
   "cell_type": "code",
   "execution_count": null,
   "metadata": {},
   "outputs": [],
   "source": [
    "len(embedding_result)"
   ]
  },
  {
   "cell_type": "code",
   "execution_count": null,
   "metadata": {},
   "outputs": [],
   "source": [
    "len(embedding_result[0])"
   ]
  },
  {
   "cell_type": "code",
   "execution_count": null,
   "metadata": {},
   "outputs": [],
   "source": [
    "fig, ax = plt.subplots(len(embedding_result), len(embedding_result), sharex=True, sharey=True, figsize=(15,15))\n",
    "# label = ['atom'] + reduced + ['ECFP6']\n",
    "label = ['atom'] + reduced\n",
    "\n",
    "embedding_pearson = list()\n",
    "embedding_pearson_max = list()\n",
    "for r_i in tqdm(range(len(embedding_result))):\n",
    "    for r_j in range(len(embedding_result)):\n",
    "        if r_i > r_j:\n",
    "            embedding_pearson = list()\n",
    "            embedding_pearson_max = list()\n",
    "            for i, ii in tqdm(enumerate(embedding_result[r_i])):\n",
    "                finding_max = list()\n",
    "                for j, jj in enumerate(embedding_result[r_j]):\n",
    "                    if j >= i:\n",
    "                        if len(ii) != len(jj):\n",
    "                            print(len(ii), len(jj))\n",
    "                        corr = scipy.stats.pearsonr(ii, jj)[0]\n",
    "                        finding_max.append(corr)\n",
    "                        embedding_pearson.append(corr)\n",
    "                if len(finding_max) != 0:\n",
    "                    embedding_pearson_max.append(max(finding_max))\n",
    "\n",
    "            sns.histplot(data=embedding_pearson_max, bins=np.arange(-1.1, 1.1, 0.05), ax=ax[r_i, r_j], label=label[r_i]+'-'+label[r_j])\n",
    "            ax[r_i, r_j].axvline(x=np.mean(embedding_pearson_max), linewidth=1, color='black')\n",
    "            ax[r_i, r_j].set_xlim([-1,1])\n",
    "            plt.xlabel('pearsonr')"
   ]
  },
  {
   "cell_type": "code",
   "execution_count": null,
   "metadata": {},
   "outputs": [],
   "source": []
  }
 ],
 "metadata": {
  "kernelspec": {
   "display_name": "Python 3.8.13 ('myenv38')",
   "language": "python",
   "name": "python3"
  },
  "language_info": {
   "codemirror_mode": {
    "name": "ipython",
    "version": 3
   },
   "file_extension": ".py",
   "mimetype": "text/x-python",
   "name": "python",
   "nbconvert_exporter": "python",
   "pygments_lexer": "ipython3",
   "version": "3.8.13"
  },
  "orig_nbformat": 4,
  "vscode": {
   "interpreter": {
    "hash": "39c542c5c02b7a511e1ae79f0bb478cef0c12733a4ae7993722600208abb2b65"
   }
  }
 },
 "nbformat": 4,
 "nbformat_minor": 2
}
